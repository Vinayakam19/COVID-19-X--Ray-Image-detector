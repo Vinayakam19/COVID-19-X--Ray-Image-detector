{
 "cells": [
  {
   "cell_type": "code",
   "execution_count": 92,
   "metadata": {},
   "outputs": [],
   "source": [
    "# For Mac based notebooks #\n",
    "\n",
    "# Import mlcompute module to use the optional set_mlc_device API for device selection with ML Compute.\n",
    "#from tensorflow.python.compiler.mlcompute import mlcompute\n",
    "\n",
    "# Select CPU device.\n",
    "#mlcompute.set_mlc_device(device_name='gpu')"
   ]
  },
  {
   "cell_type": "code",
   "execution_count": 93,
   "metadata": {
    "colab": {
     "base_uri": "https://localhost:8080/"
    },
    "id": "ySC1q8wZa854",
    "outputId": "a44b51a6-429c-4f43-fe55-f46f95af4e66"
   },
   "outputs": [],
   "source": [
    "# Importing the libraries\n",
    "\n",
    "import tensorflow as tf\n",
    "from tensorflow import keras\n",
    "from tensorflow.keras.applications.vgg16 import VGG16\n",
    "from keras.layers import Input, Lambda, Dense, Flatten\n",
    "from keras.preprocessing import image\n",
    "from keras.preprocessing.image import ImageDataGenerator\n",
    "from keras.applications.vgg16 import preprocess_input\n",
    "from keras.models import Sequential\n",
    "from keras.models import Model\n",
    "import numpy as np\n",
    "import pandas as pd\n",
    "import matplotlib.pyplot as plt\n",
    "import scipy as sklearn"
   ]
  },
  {
   "cell_type": "code",
   "execution_count": 94,
   "metadata": {
    "id": "qoyIgTu2b0ai"
   },
   "outputs": [],
   "source": [
    "# Loading the COVID-19 dataset\n",
    "\n",
    "train_images = '/Users/vinayaka/Downloads/Front UI - COVID/COVID dataset/train'\n",
    "test_images = '/Users/vinayaka/Downloads/Front UI - COVID/COVID dataset/test'"
   ]
  },
  {
   "cell_type": "code",
   "execution_count": 95,
   "metadata": {
    "id": "vC9MS7E9b0d7"
   },
   "outputs": [],
   "source": [
    "#Loading the VGG16 model.The inputs should be in the shape 224x224 as vgg16 is built on image dimension 224x224.\n",
    "\n",
    "vgg_model = VGG16(weights='imagenet',input_shape=(224,224,3),include_top=False)"
   ]
  },
  {
   "cell_type": "code",
   "execution_count": 96,
   "metadata": {
    "id": "BIHPq-Orb0hf"
   },
   "outputs": [],
   "source": [
    "# Code on not to retrain the existing layers as the layers have already been trained\n",
    "\n",
    "for layer in vgg_model.layers:\n",
    "  layer.trainable = False"
   ]
  },
  {
   "cell_type": "code",
   "execution_count": 97,
   "metadata": {
    "id": "Po9e9oQyb0j-"
   },
   "outputs": [],
   "source": [
    "#Creating our own layers\n",
    "\n",
    "x = Flatten()(vgg_model.output)\n",
    "prediction = Dense(3, activation='softmax')(x)"
   ]
  },
  {
   "cell_type": "code",
   "execution_count": 98,
   "metadata": {
    "colab": {
     "base_uri": "https://localhost:8080/"
    },
    "id": "cO-cr8K9b0mg",
    "outputId": "f5aa4d33-eb01-4959-f825-acb425f3dd9d"
   },
   "outputs": [
    {
     "name": "stdout",
     "output_type": "stream",
     "text": [
      "Model: \"VGGNet\"\n",
      "_________________________________________________________________\n",
      "Layer (type)                 Output Shape              Param #   \n",
      "=================================================================\n",
      "input_3 (InputLayer)         [(None, 224, 224, 3)]     0         \n",
      "_________________________________________________________________\n",
      "block1_conv1 (Conv2D)        (None, 224, 224, 64)      1792      \n",
      "_________________________________________________________________\n",
      "block1_conv2 (Conv2D)        (None, 224, 224, 64)      36928     \n",
      "_________________________________________________________________\n",
      "block1_pool (MaxPooling2D)   (None, 112, 112, 64)      0         \n",
      "_________________________________________________________________\n",
      "block2_conv1 (Conv2D)        (None, 112, 112, 128)     73856     \n",
      "_________________________________________________________________\n",
      "block2_conv2 (Conv2D)        (None, 112, 112, 128)     147584    \n",
      "_________________________________________________________________\n",
      "block2_pool (MaxPooling2D)   (None, 56, 56, 128)       0         \n",
      "_________________________________________________________________\n",
      "block3_conv1 (Conv2D)        (None, 56, 56, 256)       295168    \n",
      "_________________________________________________________________\n",
      "block3_conv2 (Conv2D)        (None, 56, 56, 256)       590080    \n",
      "_________________________________________________________________\n",
      "block3_conv3 (Conv2D)        (None, 56, 56, 256)       590080    \n",
      "_________________________________________________________________\n",
      "block3_pool (MaxPooling2D)   (None, 28, 28, 256)       0         \n",
      "_________________________________________________________________\n",
      "block4_conv1 (Conv2D)        (None, 28, 28, 512)       1180160   \n",
      "_________________________________________________________________\n",
      "block4_conv2 (Conv2D)        (None, 28, 28, 512)       2359808   \n",
      "_________________________________________________________________\n",
      "block4_conv3 (Conv2D)        (None, 28, 28, 512)       2359808   \n",
      "_________________________________________________________________\n",
      "block4_pool (MaxPooling2D)   (None, 14, 14, 512)       0         \n",
      "_________________________________________________________________\n",
      "block5_conv1 (Conv2D)        (None, 14, 14, 512)       2359808   \n",
      "_________________________________________________________________\n",
      "block5_conv2 (Conv2D)        (None, 14, 14, 512)       2359808   \n",
      "_________________________________________________________________\n",
      "block5_conv3 (Conv2D)        (None, 14, 14, 512)       2359808   \n",
      "_________________________________________________________________\n",
      "block5_pool (MaxPooling2D)   (None, 7, 7, 512)         0         \n",
      "_________________________________________________________________\n",
      "flatten_2 (Flatten)          (None, 25088)             0         \n",
      "_________________________________________________________________\n",
      "dense_2 (Dense)              (None, 3)                 75267     \n",
      "=================================================================\n",
      "Total params: 14,789,955\n",
      "Trainable params: 75,267\n",
      "Non-trainable params: 14,714,688\n",
      "_________________________________________________________________\n"
     ]
    }
   ],
   "source": [
    "#Creating an object of model\n",
    "\n",
    "model = Model(inputs=vgg_model.input, outputs=prediction, name='VGGNet')\n",
    "\n",
    "#Viewing the structure of the model\n",
    "\n",
    "model.summary()\n",
    "\n",
    "#Model - cost and optimization method to be used\n",
    "\n",
    "model.compile(loss='categorical_crossentropy',optimizer='rmsprop',metrics=['accuracy'])"
   ]
  },
  {
   "cell_type": "code",
   "execution_count": 99,
   "metadata": {
    "colab": {
     "base_uri": "https://localhost:8080/"
    },
    "id": "gEmqfDFXb0pC",
    "outputId": "82da1486-d8bf-4277-8d17-0a82b2c7be6e"
   },
   "outputs": [
    {
     "name": "stdout",
     "output_type": "stream",
     "text": [
      "Found 251 images belonging to 3 classes.\n",
      "Found 66 images belonging to 3 classes.\n"
     ]
    }
   ],
   "source": [
    "batch_size = 32\n",
    "\n",
    "#this is the augmentation configuration that we use for training\n",
    "\n",
    "train_datagen = ImageDataGenerator(rescale=1./255,\n",
    "                           shear_range=0.2,\n",
    "                           zoom_range=0.2,\n",
    "                           horizontal_flip=True)\n",
    "\n",
    "# this is the augmentation configuration we use for testing\n",
    "# only rescaling\n",
    "test_datagen = ImageDataGenerator(rescale=1./255)\n",
    "\n",
    "# this is a generator that will read pictures found in\n",
    "# subfolers of '/Users/vinayaka/Downloads/Front UI - COVID/COVID dataset/train', and indefinitely generate\n",
    "# batches of augmented image data\n",
    "\n",
    "train_generator = train_datagen.flow_from_directory(\n",
    "                  '/Users/vinayaka/Downloads/Front UI - COVID/COVID dataset/train', #this is the target directory\n",
    "                  target_size=(224, 224), # all images will be resized to 224x224\n",
    "                  batch_size=batch_size,\n",
    "                  class_mode='categorical')# We use categorical cross entropy as we are dealing with 3 classes\n",
    "\n",
    "# this is a similar generator, for validation data\n",
    "validation_generator = test_datagen.flow_from_directory(\n",
    "        '/Users/vinayaka/Downloads/Front UI - COVID/COVID dataset/test',\n",
    "        target_size=(224, 224),\n",
    "        batch_size=batch_size,\n",
    "        class_mode='categorical')"
   ]
  },
  {
   "cell_type": "code",
   "execution_count": 100,
   "metadata": {
    "colab": {
     "base_uri": "https://localhost:8080/"
    },
    "id": "DCJ2q1kXb0rc",
    "outputId": "0508b17b-20f3-4866-f1ee-0ca584b0e164"
   },
   "outputs": [
    {
     "name": "stdout",
     "output_type": "stream",
     "text": [
      "Epoch 1/10\n",
      "8/8 [==============================] - 11s 1s/step - loss: 2.6906 - accuracy: 0.3888 - val_loss: 0.3275 - val_accuracy: 0.8333\n",
      "Epoch 2/10\n",
      "8/8 [==============================] - 9s 1s/step - loss: 0.3190 - accuracy: 0.8798 - val_loss: 0.2714 - val_accuracy: 0.8939\n",
      "Epoch 3/10\n",
      "8/8 [==============================] - 10s 1s/step - loss: 0.3104 - accuracy: 0.8920 - val_loss: 0.3490 - val_accuracy: 0.8485\n",
      "Epoch 4/10\n",
      "8/8 [==============================] - 9s 1s/step - loss: 0.3950 - accuracy: 0.8455 - val_loss: 0.5904 - val_accuracy: 0.7727\n",
      "Epoch 5/10\n",
      "8/8 [==============================] - 9s 1s/step - loss: 0.1252 - accuracy: 0.9584 - val_loss: 0.2306 - val_accuracy: 0.9242\n",
      "Epoch 6/10\n",
      "8/8 [==============================] - 9s 1s/step - loss: 0.2700 - accuracy: 0.9183 - val_loss: 0.1420 - val_accuracy: 0.9545\n",
      "Epoch 7/10\n",
      "8/8 [==============================] - 9s 1s/step - loss: 0.1528 - accuracy: 0.9558 - val_loss: 0.2017 - val_accuracy: 0.8788\n",
      "Epoch 8/10\n",
      "8/8 [==============================] - 9s 1s/step - loss: 0.1984 - accuracy: 0.9089 - val_loss: 0.1659 - val_accuracy: 0.9394\n",
      "Epoch 9/10\n",
      "8/8 [==============================] - 9s 1s/step - loss: 0.1306 - accuracy: 0.9525 - val_loss: 0.1628 - val_accuracy: 0.9242\n",
      "Epoch 10/10\n",
      "8/8 [==============================] - 9s 1s/step - loss: 0.2896 - accuracy: 0.8943 - val_loss: 0.0961 - val_accuracy: 0.9697\n"
     ]
    }
   ],
   "source": [
    "#Fitting the model\n",
    "\n",
    "history = model.fit(train_generator,\n",
    "  validation_data=validation_generator,\n",
    "  epochs=10,\n",
    "  steps_per_epoch=len(train_generator),\n",
    "  validation_steps=len(validation_generator)\n",
    ")"
   ]
  },
  {
   "cell_type": "code",
   "execution_count": 101,
   "metadata": {
    "colab": {
     "base_uri": "https://localhost:8080/",
     "height": 324
    },
    "id": "FpXXPyJIet5x",
    "outputId": "c0043ed0-0223-4b58-9c55-54eb67243ee4"
   },
   "outputs": [
    {
     "data": {
      "image/png": "[encoded data removed]",
      "text/plain": [
       "<Figure size 576x360 with 1 Axes>"
      ]
     },
     "metadata": {
      "needs_background": "light"
     },
     "output_type": "display_data"
    }
   ],
   "source": [
    "#Plotting the accuracy of the model\n",
    "\n",
    "pd.DataFrame(history.history).plot(figsize=(8, 5))\n",
    "plt.grid(True)\n",
    "plt.gca().set_ylim(0, 1) # set the vertical range to [0-1]\n",
    "plt.show()"
   ]
  },
  {
   "cell_type": "code",
   "execution_count": 102,
   "metadata": {
    "colab": {
     "base_uri": "https://localhost:8080/"
    },
    "id": "tIJF9at6et8I",
    "outputId": "e8ba65f4-4ea2-41b5-a404-25af321479b5"
   },
   "outputs": [
    {
     "name": "stdout",
     "output_type": "stream",
     "text": [
      "[[9.9995410e-01 6.1001374e-06 3.9850482e-05]\n",
      " [9.9999678e-01 5.1416105e-08 3.2261021e-06]\n",
      " [1.1447911e-04 8.6857772e-01 1.3130775e-01]\n",
      " [9.9990237e-01 7.7207483e-07 9.6920608e-05]\n",
      " [9.9998248e-01 8.4099196e-07 1.6728238e-05]\n",
      " [9.9645519e-01 1.8403587e-05 3.5263794e-03]\n",
      " [8.6480537e-03 3.2308694e-02 9.5904332e-01]\n",
      " [3.4022986e-04 7.2435731e-01 2.7530247e-01]\n",
      " [2.3055031e-04 7.0147678e-02 9.2962182e-01]\n",
      " [3.8222349e-04 7.9306267e-02 9.2031151e-01]\n",
      " [2.3355013e-04 9.9741548e-01 2.3510298e-03]\n",
      " [1.9588313e-04 1.4575584e-02 9.8522854e-01]\n",
      " [9.9978620e-01 1.2837478e-06 2.1247195e-04]\n",
      " [6.8959701e-03 9.5266223e-01 4.0441778e-02]\n",
      " [9.9957043e-01 4.0757013e-04 2.2038037e-05]\n",
      " [9.9966037e-01 1.2383184e-04 2.1587203e-04]\n",
      " [9.9842584e-01 6.3904416e-05 1.5103040e-03]\n",
      " [3.5787877e-04 6.9325697e-01 3.0638522e-01]\n",
      " [6.3151285e-02 9.3605399e-01 7.9476059e-04]\n",
      " [4.6300929e-04 1.4426501e-03 9.9809438e-01]\n",
      " [9.9944633e-01 4.1226008e-06 5.4944487e-04]\n",
      " [1.6917651e-05 6.5632796e-01 3.4365520e-01]\n",
      " [9.9981779e-01 3.0536550e-05 1.5172803e-04]\n",
      " [4.1583146e-05 9.8444563e-01 1.5512854e-02]\n",
      " [9.9688029e-01 6.5833802e-04 2.4614010e-03]\n",
      " [2.6527513e-04 5.9233136e-02 9.4050157e-01]\n",
      " [6.3781923e-04 7.6559782e-01 2.3376428e-01]\n",
      " [1.5519554e-04 9.9195546e-01 7.8894226e-03]\n",
      " [9.9847716e-01 2.4970215e-05 1.4978587e-03]\n",
      " [9.9990821e-01 7.3281592e-07 9.1099144e-05]\n",
      " [9.8745070e-02 6.2900931e-02 8.3835405e-01]\n",
      " [3.1639508e-03 9.9588698e-01 9.4898161e-04]\n",
      " [4.2620987e-02 2.7836321e-03 9.5459539e-01]\n",
      " [3.4791930e-04 1.5994860e-02 9.8365718e-01]\n",
      " [9.8714149e-01 4.9262387e-03 7.9322327e-03]\n",
      " [9.9919695e-01 3.2626430e-04 4.7678716e-04]\n",
      " [1.2556317e-01 5.0019501e-03 8.6943489e-01]\n",
      " [9.9975783e-01 1.8401488e-05 2.2376275e-04]\n",
      " [9.9919695e-01 3.2626430e-04 4.7678716e-04]\n",
      " [6.8833557e-05 4.9384791e-01 5.0608331e-01]\n",
      " [9.9990189e-01 3.6016918e-06 9.4531671e-05]\n",
      " [9.7880781e-01 2.7627901e-03 1.8429397e-02]\n",
      " [3.8820200e-04 4.4321045e-01 5.5640137e-01]\n",
      " [1.8788233e-02 3.9433369e-01 5.8687812e-01]\n",
      " [9.9989057e-01 4.3610384e-05 6.5834211e-05]\n",
      " [9.9696195e-01 1.2547614e-05 3.0255187e-03]\n",
      " [4.1948661e-04 1.5937607e-04 9.9942112e-01]\n",
      " [1.4874279e-01 9.2809021e-02 7.5844818e-01]\n",
      " [1.2459027e-04 9.6268910e-01 3.7186325e-02]\n",
      " [6.5839951e-05 8.7973392e-01 1.2020023e-01]\n",
      " [2.1438936e-03 1.7081475e-02 9.8077470e-01]\n",
      " [3.1968930e-03 7.2119004e-01 2.7561310e-01]\n",
      " [5.1741110e-04 4.7108868e-01 5.2839392e-01]\n",
      " [1.6625709e-03 9.3555450e-01 6.2782995e-02]\n",
      " [9.9931979e-01 6.9570939e-05 6.1061408e-04]\n",
      " [2.0558815e-03 4.2409282e-03 9.9370325e-01]\n",
      " [1.7037691e-03 1.7324542e-01 8.2505077e-01]\n",
      " [2.2252405e-05 9.9896395e-01 1.0138351e-03]\n",
      " [4.2361258e-05 3.8745094e-04 9.9957019e-01]\n",
      " [3.5141147e-04 5.2437102e-03 9.9440491e-01]\n",
      " [3.0813037e-04 7.3004031e-01 2.6965162e-01]\n",
      " [9.9995196e-01 2.1100145e-06 4.5908448e-05]\n",
      " [1.4604967e-04 9.8457712e-01 1.5276915e-02]\n",
      " [1.0408438e-04 3.6660552e-03 9.9622989e-01]\n",
      " [9.9991095e-01 1.9848324e-06 8.6976463e-05]\n",
      " [9.9960607e-01 1.4055918e-04 2.5337571e-04]]\n"
     ]
    }
   ],
   "source": [
    "y_pred = model.predict(validation_generator)\n",
    "print(y_pred)"
   ]
  },
  {
   "cell_type": "code",
   "execution_count": 103,
   "metadata": {
    "colab": {
     "base_uri": "https://localhost:8080/"
    },
    "id": "lCv3-8jIet-b",
    "outputId": "ff5f901f-45a6-4f90-d102-e5206570ee67"
   },
   "outputs": [
    {
     "name": "stdout",
     "output_type": "stream",
     "text": [
      "[0 0 1 0 0 0 2 1 2 2 1 2 0 1 0 0 0 1 1 2 0 1 0 1 0 2 1 1 0 0 2 1 2 2 0 0 2\n",
      " 0 0 2 0 0 2 2 0 0 2 2 1 1 2 1 2 1 0 2 2 1 2 2 1 0 1 2 0 0]\n"
     ]
    }
   ],
   "source": [
    "y_pred = np.argmax(y_pred, axis=1)\n",
    "print(y_pred)"
   ]
  },
  {
   "cell_type": "code",
   "execution_count": 113,
   "metadata": {
    "colab": {
     "base_uri": "https://localhost:8080/"
    },
    "id": "5HUqsaFBjH5P",
    "outputId": "3e801e67-483e-443d-b4b5-2548fcdff167"
   },
   "outputs": [],
   "source": [
    "#Loading the image\n",
    "\n",
    "img=image.load_img('/Users/vinayaka/Downloads/COVID dataset/test/Covid/0119.jpeg',target_size=(224,224))\n",
    "x=image.img_to_array(img)\n",
    "#print(x.shape)"
   ]
  },
  {
   "cell_type": "code",
   "execution_count": 114,
   "metadata": {
    "colab": {
     "base_uri": "https://localhost:8080/"
    },
    "id": "dHy6afksjH-S",
    "outputId": "14d91eb4-8692-44e8-c9d3-59880ec39b06"
   },
   "outputs": [],
   "source": [
    "#x = x/255\n",
    "x=np.expand_dims(x,axis=0)\n",
    "img_data=preprocess_input(x)\n",
    "#img_data.shape # Shape of the image would be (1,224,224,3)"
   ]
  },
  {
   "cell_type": "code",
   "execution_count": 115,
   "metadata": {
    "colab": {
     "base_uri": "https://localhost:8080/"
    },
    "id": "unWAg0Gxlz57",
    "outputId": "8f7b44f7-9d77-4660-abc8-045dcb1277be"
   },
   "outputs": [
    {
     "data": {
      "text/plain": [
       "array([[1.00000000e+00, 1.08411994e-37, 1.05036286e-19]], dtype=float32)"
      ]
     },
     "execution_count": 115,
     "metadata": {},
     "output_type": "execute_result"
    }
   ],
   "source": [
    "model.predict(img_data)"
   ]
  },
  {
   "cell_type": "code",
   "execution_count": 116,
   "metadata": {
    "colab": {
     "base_uri": "https://localhost:8080/"
    },
    "id": "jib-zkeyl4df",
    "outputId": "66dcff81-8f1f-4b18-81df-0490a99a99e6"
   },
   "outputs": [
    {
     "name": "stdout",
     "output_type": "stream",
     "text": [
      "Covid\n"
     ]
    }
   ],
   "source": [
    "a=np.argmax(model.predict(img_data), axis=1)\n",
    "\n",
    "if(a==0):\n",
    "  print(\"Covid\")\n",
    "elif(a==1):\n",
    "  print(\"Normal\")\n",
    "else:\n",
    "  print(\"Viral Pneumonia\")"
   ]
  },
  {
   "cell_type": "code",
   "execution_count": 117,
   "metadata": {
    "id": "qJvbQynJo87n"
   },
   "outputs": [],
   "source": [
    "model.save('COVID19_VGGNet.h5')"
   ]
  }
 ],
 "metadata": {
  "accelerator": "GPU",
  "colab": {
   "name": "COVID-19 image classification using deep learning.ipynb",
   "provenance": []
  },
  "kernelspec": {
   "display_name": "Python 3",
   "language": "python",
   "name": "python3"
  },
  "language_info": {
   "codemirror_mode": {
    "name": "ipython",
    "version": 3
   },
   "file_extension": ".py",
   "mimetype": "text/x-python",
   "name": "python",
   "nbconvert_exporter": "python",
   "pygments_lexer": "ipython3",
   "version": "3.8.8"
  }
 },
 "nbformat": 4,
 "nbformat_minor": 1
}
