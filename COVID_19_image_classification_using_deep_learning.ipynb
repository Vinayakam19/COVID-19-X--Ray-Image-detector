{
  "nbformat": 4,
  "nbformat_minor": 0,
  "metadata": {
    "colab": {
      "name": "COVID-19 image classification using deep learning.ipynb",
      "provenance": [],
      "collapsed_sections": []
    },
    "kernelspec": {
      "name": "python3",
      "display_name": "Python 3"
    },
    "accelerator": "GPU"
  },
  "cells": [
    {
      "cell_type": "code",
      "metadata": {
        "colab": {
          "base_uri": "https://localhost:8080/"
        },
        "id": "AcjDZdwbi9Qa",
        "outputId": "d6b21a60-a1f0-4ddc-a15b-7e2f5fce209a"
      },
      "source": [
        "#Installing tensorflow version 2.2.0\n",
        "\n",
        "!pip install tensorflow==2.2.0"
      ],
      "execution_count": 1,
      "outputs": [
        {
          "output_type": "stream",
          "text": [
            "Requirement already satisfied: tensorflow==2.2.0 in /usr/local/lib/python3.7/dist-packages (2.2.0)\n",
            "Requirement already satisfied: keras-preprocessing>=1.1.0 in /usr/local/lib/python3.7/dist-packages (from tensorflow==2.2.0) (1.1.2)\n",
            "Requirement already satisfied: wrapt>=1.11.1 in /usr/local/lib/python3.7/dist-packages (from tensorflow==2.2.0) (1.12.1)\n",
            "Requirement already satisfied: tensorflow-estimator<2.3.0,>=2.2.0 in /usr/local/lib/python3.7/dist-packages (from tensorflow==2.2.0) (2.2.0)\n",
            "Requirement already satisfied: astunparse==1.6.3 in /usr/local/lib/python3.7/dist-packages (from tensorflow==2.2.0) (1.6.3)\n",
            "Requirement already satisfied: grpcio>=1.8.6 in /usr/local/lib/python3.7/dist-packages (from tensorflow==2.2.0) (1.34.1)\n",
            "Requirement already satisfied: six>=1.12.0 in /usr/local/lib/python3.7/dist-packages (from tensorflow==2.2.0) (1.15.0)\n",
            "Requirement already satisfied: absl-py>=0.7.0 in /usr/local/lib/python3.7/dist-packages (from tensorflow==2.2.0) (0.12.0)\n",
            "Requirement already satisfied: numpy<2.0,>=1.16.0 in /usr/local/lib/python3.7/dist-packages (from tensorflow==2.2.0) (1.19.5)\n",
            "Requirement already satisfied: h5py<2.11.0,>=2.10.0 in /usr/local/lib/python3.7/dist-packages (from tensorflow==2.2.0) (2.10.0)\n",
            "Requirement already satisfied: google-pasta>=0.1.8 in /usr/local/lib/python3.7/dist-packages (from tensorflow==2.2.0) (0.2.0)\n",
            "Requirement already satisfied: tensorboard<2.3.0,>=2.2.0 in /usr/local/lib/python3.7/dist-packages (from tensorflow==2.2.0) (2.2.2)\n",
            "Requirement already satisfied: termcolor>=1.1.0 in /usr/local/lib/python3.7/dist-packages (from tensorflow==2.2.0) (1.1.0)\n",
            "Requirement already satisfied: gast==0.3.3 in /usr/local/lib/python3.7/dist-packages (from tensorflow==2.2.0) (0.3.3)\n",
            "Requirement already satisfied: protobuf>=3.8.0 in /usr/local/lib/python3.7/dist-packages (from tensorflow==2.2.0) (3.12.4)\n",
            "Requirement already satisfied: scipy==1.4.1; python_version >= \"3\" in /usr/local/lib/python3.7/dist-packages (from tensorflow==2.2.0) (1.4.1)\n",
            "Requirement already satisfied: wheel>=0.26; python_version >= \"3\" in /usr/local/lib/python3.7/dist-packages (from tensorflow==2.2.0) (0.36.2)\n",
            "Requirement already satisfied: opt-einsum>=2.3.2 in /usr/local/lib/python3.7/dist-packages (from tensorflow==2.2.0) (3.3.0)\n",
            "Requirement already satisfied: markdown>=2.6.8 in /usr/local/lib/python3.7/dist-packages (from tensorboard<2.3.0,>=2.2.0->tensorflow==2.2.0) (3.3.4)\n",
            "Requirement already satisfied: tensorboard-plugin-wit>=1.6.0 in /usr/local/lib/python3.7/dist-packages (from tensorboard<2.3.0,>=2.2.0->tensorflow==2.2.0) (1.8.0)\n",
            "Requirement already satisfied: werkzeug>=0.11.15 in /usr/local/lib/python3.7/dist-packages (from tensorboard<2.3.0,>=2.2.0->tensorflow==2.2.0) (1.0.1)\n",
            "Requirement already satisfied: google-auth-oauthlib<0.5,>=0.4.1 in /usr/local/lib/python3.7/dist-packages (from tensorboard<2.3.0,>=2.2.0->tensorflow==2.2.0) (0.4.4)\n",
            "Requirement already satisfied: setuptools>=41.0.0 in /usr/local/lib/python3.7/dist-packages (from tensorboard<2.3.0,>=2.2.0->tensorflow==2.2.0) (57.0.0)\n",
            "Requirement already satisfied: google-auth<2,>=1.6.3 in /usr/local/lib/python3.7/dist-packages (from tensorboard<2.3.0,>=2.2.0->tensorflow==2.2.0) (1.31.0)\n",
            "Requirement already satisfied: requests<3,>=2.21.0 in /usr/local/lib/python3.7/dist-packages (from tensorboard<2.3.0,>=2.2.0->tensorflow==2.2.0) (2.23.0)\n",
            "Requirement already satisfied: importlib-metadata; python_version < \"3.8\" in /usr/local/lib/python3.7/dist-packages (from markdown>=2.6.8->tensorboard<2.3.0,>=2.2.0->tensorflow==2.2.0) (4.5.0)\n",
            "Requirement already satisfied: requests-oauthlib>=0.7.0 in /usr/local/lib/python3.7/dist-packages (from google-auth-oauthlib<0.5,>=0.4.1->tensorboard<2.3.0,>=2.2.0->tensorflow==2.2.0) (1.3.0)\n",
            "Requirement already satisfied: pyasn1-modules>=0.2.1 in /usr/local/lib/python3.7/dist-packages (from google-auth<2,>=1.6.3->tensorboard<2.3.0,>=2.2.0->tensorflow==2.2.0) (0.2.8)\n",
            "Requirement already satisfied: cachetools<5.0,>=2.0.0 in /usr/local/lib/python3.7/dist-packages (from google-auth<2,>=1.6.3->tensorboard<2.3.0,>=2.2.0->tensorflow==2.2.0) (4.2.2)\n",
            "Requirement already satisfied: rsa<5,>=3.1.4; python_version >= \"3.6\" in /usr/local/lib/python3.7/dist-packages (from google-auth<2,>=1.6.3->tensorboard<2.3.0,>=2.2.0->tensorflow==2.2.0) (4.7.2)\n",
            "Requirement already satisfied: idna<3,>=2.5 in /usr/local/lib/python3.7/dist-packages (from requests<3,>=2.21.0->tensorboard<2.3.0,>=2.2.0->tensorflow==2.2.0) (2.10)\n",
            "Requirement already satisfied: urllib3!=1.25.0,!=1.25.1,<1.26,>=1.21.1 in /usr/local/lib/python3.7/dist-packages (from requests<3,>=2.21.0->tensorboard<2.3.0,>=2.2.0->tensorflow==2.2.0) (1.24.3)\n",
            "Requirement already satisfied: certifi>=2017.4.17 in /usr/local/lib/python3.7/dist-packages (from requests<3,>=2.21.0->tensorboard<2.3.0,>=2.2.0->tensorflow==2.2.0) (2021.5.30)\n",
            "Requirement already satisfied: chardet<4,>=3.0.2 in /usr/local/lib/python3.7/dist-packages (from requests<3,>=2.21.0->tensorboard<2.3.0,>=2.2.0->tensorflow==2.2.0) (3.0.4)\n",
            "Requirement already satisfied: zipp>=0.5 in /usr/local/lib/python3.7/dist-packages (from importlib-metadata; python_version < \"3.8\"->markdown>=2.6.8->tensorboard<2.3.0,>=2.2.0->tensorflow==2.2.0) (3.4.1)\n",
            "Requirement already satisfied: typing-extensions>=3.6.4; python_version < \"3.8\" in /usr/local/lib/python3.7/dist-packages (from importlib-metadata; python_version < \"3.8\"->markdown>=2.6.8->tensorboard<2.3.0,>=2.2.0->tensorflow==2.2.0) (3.7.4.3)\n",
            "Requirement already satisfied: oauthlib>=3.0.0 in /usr/local/lib/python3.7/dist-packages (from requests-oauthlib>=0.7.0->google-auth-oauthlib<0.5,>=0.4.1->tensorboard<2.3.0,>=2.2.0->tensorflow==2.2.0) (3.1.1)\n",
            "Requirement already satisfied: pyasn1<0.5.0,>=0.4.6 in /usr/local/lib/python3.7/dist-packages (from pyasn1-modules>=0.2.1->google-auth<2,>=1.6.3->tensorboard<2.3.0,>=2.2.0->tensorflow==2.2.0) (0.4.8)\n"
          ],
          "name": "stdout"
        }
      ]
    },
    {
      "cell_type": "code",
      "metadata": {
        "colab": {
          "base_uri": "https://localhost:8080/"
        },
        "id": "ySC1q8wZa854",
        "outputId": "9c05b2c0-c99a-4e02-b554-5c075e349fb6"
      },
      "source": [
        "# Importing the libraries\n",
        "\n",
        "import tensorflow as tf\n",
        "from tensorflow import keras\n",
        "from tensorflow.keras.applications.vgg16 import VGG16\n",
        "from tensorflow.keras.layers import Input, Lambda, Dense, Flatten, Dropout\n",
        "from tensorflow.keras.callbacks import ModelCheckpoint, EarlyStopping, ReduceLROnPlateau, LearningRateScheduler\n",
        "from tensorflow.keras.preprocessing import image\n",
        "from tensorflow.keras.preprocessing.image import ImageDataGenerator\n",
        "from tensorflow.keras.applications.vgg16 import preprocess_input\n",
        "from tensorflow.keras.models import Sequential\n",
        "from tensorflow.keras.models import Model\n",
        "from google.colab import drive\n",
        "drive.mount('/content/gdrive')\n",
        "import numpy as np\n",
        "import pandas as pd\n",
        "import matplotlib.pyplot as plt\n",
        "import scipy as sklearn"
      ],
      "execution_count": 68,
      "outputs": [
        {
          "output_type": "stream",
          "text": [
            "Drive already mounted at /content/gdrive; to attempt to forcibly remount, call drive.mount(\"/content/gdrive\", force_remount=True).\n"
          ],
          "name": "stdout"
        }
      ]
    },
    {
      "cell_type": "code",
      "metadata": {
        "id": "qoyIgTu2b0ai"
      },
      "source": [
        "# Loading the COVID-19 dataset\n",
        "\n",
        "train_images = '/content/gdrive/MyDrive/Datasets/COVID-19 images/COVID dataset/train'\n",
        "test_images = '/content/gdrive/MyDrive/Datasets/COVID-19 images/COVID dataset/test'"
      ],
      "execution_count": 69,
      "outputs": []
    },
    {
      "cell_type": "code",
      "metadata": {
        "id": "vC9MS7E9b0d7"
      },
      "source": [
        "#Loading the VGG16 model.The inputs should be in the shape 224x224 as vgg16 is built on image dimension 224x224.\n",
        "\n",
        "vgg_model = VGG16(weights='imagenet',input_shape=(224,224,3),include_top=False)"
      ],
      "execution_count": 70,
      "outputs": []
    },
    {
      "cell_type": "code",
      "metadata": {
        "id": "BIHPq-Orb0hf"
      },
      "source": [
        "# Code on not to retrain the existing layers as the layers have already been trained\n",
        "\n",
        "for layer in vgg_model.layers:\n",
        "  layer.trainable = False"
      ],
      "execution_count": 71,
      "outputs": []
    },
    {
      "cell_type": "code",
      "metadata": {
        "id": "Po9e9oQyb0j-"
      },
      "source": [
        "#Creating our own layers\n",
        "\n",
        "top_model = vgg_model.output\n",
        "\n",
        "#Flattening the base model/top model\n",
        "\n",
        "top_model = Flatten()(top_model)\n",
        "\n",
        "# Adding 3 dense layers at the end of the top model (base model)\n",
        "\n",
        "prediction = Dense(3, activation='softmax')(top_model)"
      ],
      "execution_count": 72,
      "outputs": []
    },
    {
      "cell_type": "code",
      "metadata": {
        "colab": {
          "base_uri": "https://localhost:8080/",
          "height": 282
        },
        "id": "6SQ52Hllvk4p",
        "outputId": "eaf67870-c7ed-4af7-d747-9740cb0b2a7d"
      },
      "source": [
        "# Using an LR ramp up because fine-tuning a pre-trained model.\n",
        "# Starting with a high LR would break the pre-trained weights.\n",
        "\n",
        "EPOCHS = 10\n",
        "\n",
        "LR_START = 0.0001\n",
        "LR_MAX = 0.0005\n",
        "LR_MIN = 0.0001\n",
        "LR_RAMPUP_EPOCHS = 5\n",
        "LR_SUSTAIN_EPOCHS = 0\n",
        "LR_EXP_DECAY = 0.8\n",
        "\n",
        "def lrfn(epoch):\n",
        "    if epoch < LR_RAMPUP_EPOCHS:\n",
        "        lr = (LR_MAX - LR_START) / LR_RAMPUP_EPOCHS * epoch + LR_START\n",
        "    elif epoch < LR_RAMPUP_EPOCHS + LR_SUSTAIN_EPOCHS:\n",
        "        lr = LR_MAX\n",
        "    else:\n",
        "        lr = (LR_MAX - LR_MIN) * LR_EXP_DECAY**(epoch - LR_RAMPUP_EPOCHS - LR_SUSTAIN_EPOCHS) + LR_MIN\n",
        "    return lr\n",
        "\n",
        "rng = [i for i in range(10 if EPOCHS<25 else EPOCHS)]\n",
        "y = [lrfn(x) for x in rng]\n",
        "plt.plot(rng, y)\n",
        "print(\"Learning rate schedule: {:.3g} to {:.3g} to {:.3g}\".format(y[0], max(y), y[-1]))"
      ],
      "execution_count": 73,
      "outputs": [
        {
          "output_type": "stream",
          "text": [
            "Learning rate schedule: 0.0001 to 0.0005 to 0.000264\n"
          ],
          "name": "stdout"
        },
        {
          "output_type": "display_data",
          "data": {
            "image/png": "[encoded data removed]",
            "text/plain": [
              "<Figure size 432x288 with 1 Axes>"
            ]
          },
          "metadata": {
            "tags": [],
            "needs_background": "light"
          }
        }
      ]
    },
    {
      "cell_type": "code",
      "metadata": {
        "id": "TXF9AZfSs7X0"
      },
      "source": [
        "# Adding model checkpoints\n",
        "\n",
        "# Creating Early stopping checkpoint\n",
        "\n",
        "early_stopping = EarlyStopping(monitor=\"val_loss\", min_delta=0, patience=10, verbose=1, restore_best_weights=True)\n",
        "\n",
        "# Creating ReduceLROnPlateau checkpoint\n",
        "\n",
        "reduce_lr = ReduceLROnPlateau(monitor=\"val_loss\", factor=0.2, patience=3, verbose=1, min_delta=0.0001)\n",
        "\n",
        "# Creating LearningRateScheduler checkpoint\n",
        "\n",
        "schedule_lr = LearningRateScheduler(lrfn, verbose=1)\n",
        "\n",
        "#Creating a list of callbacks defined\n",
        "\n",
        "callbacks_list = [schedule_lr, early_stopping, reduce_lr]"
      ],
      "execution_count": 74,
      "outputs": []
    },
    {
      "cell_type": "code",
      "metadata": {
        "colab": {
          "base_uri": "https://localhost:8080/"
        },
        "id": "cO-cr8K9b0mg",
        "outputId": "ba27b3bd-1c48-4983-a0af-d63dcc8c3c4b"
      },
      "source": [
        "#Creating an object of model\n",
        "\n",
        "model = Model(inputs=vgg_model.input, outputs=prediction, name='VGGNet')\n",
        "\n",
        "#Viewing the structure of the model\n",
        "\n",
        "print(model.summary())\n",
        "\n",
        "#Model - cost and optimization method to be used\n",
        "\n",
        "model.compile(loss='categorical_crossentropy',optimizer='adam',metrics=['accuracy'])"
      ],
      "execution_count": 75,
      "outputs": [
        {
          "output_type": "stream",
          "text": [
            "Model: \"VGGNet\"\n",
            "_________________________________________________________________\n",
            "Layer (type)                 Output Shape              Param #   \n",
            "=================================================================\n",
            "input_6 (InputLayer)         [(None, 224, 224, 3)]     0         \n",
            "_________________________________________________________________\n",
            "block1_conv1 (Conv2D)        (None, 224, 224, 64)      1792      \n",
            "_________________________________________________________________\n",
            "block1_conv2 (Conv2D)        (None, 224, 224, 64)      36928     \n",
            "_________________________________________________________________\n",
            "block1_pool (MaxPooling2D)   (None, 112, 112, 64)      0         \n",
            "_________________________________________________________________\n",
            "block2_conv1 (Conv2D)        (None, 112, 112, 128)     73856     \n",
            "_________________________________________________________________\n",
            "block2_conv2 (Conv2D)        (None, 112, 112, 128)     147584    \n",
            "_________________________________________________________________\n",
            "block2_pool (MaxPooling2D)   (None, 56, 56, 128)       0         \n",
            "_________________________________________________________________\n",
            "block3_conv1 (Conv2D)        (None, 56, 56, 256)       295168    \n",
            "_________________________________________________________________\n",
            "block3_conv2 (Conv2D)        (None, 56, 56, 256)       590080    \n",
            "_________________________________________________________________\n",
            "block3_conv3 (Conv2D)        (None, 56, 56, 256)       590080    \n",
            "_________________________________________________________________\n",
            "block3_pool (MaxPooling2D)   (None, 28, 28, 256)       0         \n",
            "_________________________________________________________________\n",
            "block4_conv1 (Conv2D)        (None, 28, 28, 512)       1180160   \n",
            "_________________________________________________________________\n",
            "block4_conv2 (Conv2D)        (None, 28, 28, 512)       2359808   \n",
            "_________________________________________________________________\n",
            "block4_conv3 (Conv2D)        (None, 28, 28, 512)       2359808   \n",
            "_________________________________________________________________\n",
            "block4_pool (MaxPooling2D)   (None, 14, 14, 512)       0         \n",
            "_________________________________________________________________\n",
            "block5_conv1 (Conv2D)        (None, 14, 14, 512)       2359808   \n",
            "_________________________________________________________________\n",
            "block5_conv2 (Conv2D)        (None, 14, 14, 512)       2359808   \n",
            "_________________________________________________________________\n",
            "block5_conv3 (Conv2D)        (None, 14, 14, 512)       2359808   \n",
            "_________________________________________________________________\n",
            "block5_pool (MaxPooling2D)   (None, 7, 7, 512)         0         \n",
            "_________________________________________________________________\n",
            "flatten_6 (Flatten)          (None, 25088)             0         \n",
            "_________________________________________________________________\n",
            "dense_6 (Dense)              (None, 3)                 75267     \n",
            "=================================================================\n",
            "Total params: 14,789,955\n",
            "Trainable params: 75,267\n",
            "Non-trainable params: 14,714,688\n",
            "_________________________________________________________________\n",
            "None\n"
          ],
          "name": "stdout"
        }
      ]
    },
    {
      "cell_type": "code",
      "metadata": {
        "colab": {
          "base_uri": "https://localhost:8080/"
        },
        "id": "gEmqfDFXb0pC",
        "outputId": "98f74eb4-4913-41be-99c1-e344d6d748c6"
      },
      "source": [
        "batch_size = 32\n",
        "\n",
        "#this is the augmentation configuration that we use for training\n",
        "\n",
        "train_datagen = ImageDataGenerator(rescale=1./255,\n",
        "                           shear_range=0.2,\n",
        "                           zoom_range=0.2,\n",
        "                           horizontal_flip=True)\n",
        "\n",
        "# this is the augmentation configuration we use for testing\n",
        "# only rescaling\n",
        "test_datagen = ImageDataGenerator(rescale=1./255)\n",
        "\n",
        "# this is a generator that will read pictures found in\n",
        "# subfolers of '/content/gdrive/MyDrive/Colab Notebooks/Datasets/Cats and dogs/Train_data', and indefinitely generate\n",
        "# batches of augmented image data\n",
        "\n",
        "train_generator = train_datagen.flow_from_directory(\n",
        "                  '/content/gdrive/MyDrive/Datasets/COVID-19 images/COVID dataset/train', #this is the target directory\n",
        "                  target_size=(224, 224), # all images will be resized to 224x224\n",
        "                  batch_size=batch_size,\n",
        "                  class_mode='categorical')# since we use binary_crossentropy loss, we need binary labels\n",
        "\n",
        "# this is a similar generator, for validation data\n",
        "validation_generator = test_datagen.flow_from_directory(\n",
        "        '/content/gdrive/MyDrive/Datasets/COVID-19 images/COVID dataset/test',\n",
        "        target_size=(224, 224),\n",
        "        batch_size=batch_size,\n",
        "        class_mode='categorical')"
      ],
      "execution_count": 76,
      "outputs": [
        {
          "output_type": "stream",
          "text": [
            "Found 251 images belonging to 3 classes.\n",
            "Found 66 images belonging to 3 classes.\n"
          ],
          "name": "stdout"
        }
      ]
    },
    {
      "cell_type": "code",
      "metadata": {
        "colab": {
          "base_uri": "https://localhost:8080/"
        },
        "id": "DCJ2q1kXb0rc",
        "outputId": "364aef5c-1663-4032-fe16-1184cb3bf0b7"
      },
      "source": [
        "#Fitting the model\n",
        "\n",
        "history = model.fit(train_generator,\n",
        "  validation_data=validation_generator,\n",
        "  epochs=20,\n",
        "  steps_per_epoch=len(train_generator),\n",
        "  validation_steps=len(validation_generator),\n",
        "  callbacks=callbacks_list\n",
        ")"
      ],
      "execution_count": 77,
      "outputs": [
        {
          "output_type": "stream",
          "text": [
            "\n",
            "Epoch 00001: LearningRateScheduler reducing learning rate to 0.0001.\n",
            "Epoch 1/20\n",
            "8/8 [==============================] - 13s 2s/step - loss: 1.0684 - accuracy: 0.3865 - val_loss: 1.0110 - val_accuracy: 0.5303 - lr: 1.0000e-04\n",
            "\n",
            "Epoch 00002: LearningRateScheduler reducing learning rate to 0.00018.\n",
            "Epoch 2/20\n",
            "8/8 [==============================] - 12s 1s/step - loss: 0.7249 - accuracy: 0.7849 - val_loss: 0.6841 - val_accuracy: 0.6818 - lr: 1.8000e-04\n",
            "\n",
            "Epoch 00003: LearningRateScheduler reducing learning rate to 0.00026000000000000003.\n",
            "Epoch 3/20\n",
            "8/8 [==============================] - 12s 2s/step - loss: 0.5094 - accuracy: 0.8247 - val_loss: 0.5134 - val_accuracy: 0.7727 - lr: 2.6000e-04\n",
            "\n",
            "Epoch 00004: LearningRateScheduler reducing learning rate to 0.00034.\n",
            "Epoch 4/20\n",
            "8/8 [==============================] - 12s 2s/step - loss: 0.3508 - accuracy: 0.8964 - val_loss: 0.4961 - val_accuracy: 0.7273 - lr: 3.4000e-04\n",
            "\n",
            "Epoch 00005: LearningRateScheduler reducing learning rate to 0.00042.\n",
            "Epoch 5/20\n",
            "8/8 [==============================] - 12s 2s/step - loss: 0.2874 - accuracy: 0.8924 - val_loss: 0.3152 - val_accuracy: 0.8788 - lr: 4.2000e-04\n",
            "\n",
            "Epoch 00006: LearningRateScheduler reducing learning rate to 0.0005.\n",
            "Epoch 6/20\n",
            "8/8 [==============================] - 12s 1s/step - loss: 0.2106 - accuracy: 0.9522 - val_loss: 0.3028 - val_accuracy: 0.8788 - lr: 5.0000e-04\n",
            "\n",
            "Epoch 00007: LearningRateScheduler reducing learning rate to 0.00042.\n",
            "Epoch 7/20\n",
            "8/8 [==============================] - 12s 1s/step - loss: 0.1946 - accuracy: 0.9323 - val_loss: 0.2477 - val_accuracy: 0.8939 - lr: 4.2000e-04\n",
            "\n",
            "Epoch 00008: LearningRateScheduler reducing learning rate to 0.00035600000000000003.\n",
            "Epoch 8/20\n",
            "8/8 [==============================] - 12s 2s/step - loss: 0.1360 - accuracy: 0.9761 - val_loss: 0.2222 - val_accuracy: 0.9091 - lr: 3.5600e-04\n",
            "\n",
            "Epoch 00009: LearningRateScheduler reducing learning rate to 0.00030480000000000004.\n",
            "Epoch 9/20\n",
            "8/8 [==============================] - 12s 2s/step - loss: 0.1309 - accuracy: 0.9681 - val_loss: 0.2068 - val_accuracy: 0.9091 - lr: 3.0480e-04\n",
            "\n",
            "Epoch 00010: LearningRateScheduler reducing learning rate to 0.00026384000000000005.\n",
            "Epoch 10/20\n",
            "8/8 [==============================] - 12s 2s/step - loss: 0.1316 - accuracy: 0.9721 - val_loss: 0.2153 - val_accuracy: 0.9091 - lr: 2.6384e-04\n",
            "\n",
            "Epoch 00011: LearningRateScheduler reducing learning rate to 0.00023107200000000003.\n",
            "Epoch 11/20\n",
            "8/8 [==============================] - 12s 2s/step - loss: 0.1239 - accuracy: 0.9721 - val_loss: 0.1951 - val_accuracy: 0.9242 - lr: 2.3107e-04\n",
            "\n",
            "Epoch 00012: LearningRateScheduler reducing learning rate to 0.00020485760000000006.\n",
            "Epoch 12/20\n",
            "8/8 [==============================] - 12s 1s/step - loss: 0.1139 - accuracy: 0.9721 - val_loss: 0.1995 - val_accuracy: 0.9242 - lr: 2.0486e-04\n",
            "\n",
            "Epoch 00013: LearningRateScheduler reducing learning rate to 0.00018388608000000003.\n",
            "Epoch 13/20\n",
            "8/8 [==============================] - 12s 1s/step - loss: 0.1258 - accuracy: 0.9681 - val_loss: 0.2327 - val_accuracy: 0.8939 - lr: 1.8389e-04\n",
            "\n",
            "Epoch 00014: LearningRateScheduler reducing learning rate to 0.00016710886400000003.\n",
            "Epoch 14/20\n",
            "8/8 [==============================] - 12s 2s/step - loss: 0.1190 - accuracy: 0.9721 - val_loss: 0.1878 - val_accuracy: 0.9242 - lr: 1.6711e-04\n",
            "\n",
            "Epoch 00015: LearningRateScheduler reducing learning rate to 0.00015368709120000003.\n",
            "Epoch 15/20\n",
            "8/8 [==============================] - 13s 2s/step - loss: 0.1120 - accuracy: 0.9761 - val_loss: 0.1837 - val_accuracy: 0.9545 - lr: 1.5369e-04\n",
            "\n",
            "Epoch 00016: LearningRateScheduler reducing learning rate to 0.00014294967296000003.\n",
            "Epoch 16/20\n",
            "8/8 [==============================] - 12s 2s/step - loss: 0.1073 - accuracy: 0.9841 - val_loss: 0.1975 - val_accuracy: 0.9091 - lr: 1.4295e-04\n",
            "\n",
            "Epoch 00017: LearningRateScheduler reducing learning rate to 0.00013435973836800003.\n",
            "Epoch 17/20\n",
            "8/8 [==============================] - 12s 1s/step - loss: 0.0929 - accuracy: 0.9841 - val_loss: 0.1756 - val_accuracy: 0.9394 - lr: 1.3436e-04\n",
            "\n",
            "Epoch 00018: LearningRateScheduler reducing learning rate to 0.00012748779069440003.\n",
            "Epoch 18/20\n",
            "8/8 [==============================] - 12s 2s/step - loss: 0.0913 - accuracy: 0.9880 - val_loss: 0.1752 - val_accuracy: 0.9394 - lr: 1.2749e-04\n",
            "\n",
            "Epoch 00019: LearningRateScheduler reducing learning rate to 0.00012199023255552002.\n",
            "Epoch 19/20\n",
            "8/8 [==============================] - 12s 1s/step - loss: 0.0952 - accuracy: 0.9801 - val_loss: 0.1805 - val_accuracy: 0.9394 - lr: 1.2199e-04\n",
            "\n",
            "Epoch 00020: LearningRateScheduler reducing learning rate to 0.00011759218604441602.\n",
            "Epoch 20/20\n",
            "8/8 [==============================] - 12s 2s/step - loss: 0.0809 - accuracy: 0.9920 - val_loss: 0.1700 - val_accuracy: 0.9394 - lr: 1.1759e-04\n"
          ],
          "name": "stdout"
        }
      ]
    },
    {
      "cell_type": "code",
      "metadata": {
        "colab": {
          "base_uri": "https://localhost:8080/",
          "height": 324
        },
        "id": "FpXXPyJIet5x",
        "outputId": "b743456a-a174-4e85-af40-67b913028143"
      },
      "source": [
        "#Plotting the accuracy of the model\n",
        "\n",
        "pd.DataFrame(history.history).plot(figsize=(8, 5))\n",
        "plt.grid(True)\n",
        "plt.gca().set_ylim(0, 1) # set the vertical range to [0-1]\n",
        "plt.show()"
      ],
      "execution_count": 78,
      "outputs": [
        {
          "output_type": "display_data",
          "data": {
            "image/png": "[encoded data removed]",
            "text/plain": [
              "<Figure size 576x360 with 1 Axes>"
            ]
          },
          "metadata": {
            "tags": [],
            "needs_background": "light"
          }
        }
      ]
    },
    {
      "cell_type": "code",
      "metadata": {
        "id": "KH6M4rU5o9fx"
      },
      "source": [
        "#Loading the image\n",
        "\n",
        "img=image.load_img('/content/gdrive/MyDrive/Datasets/COVID-19 images/COVID dataset/test/Covid/0119.jpeg',target_size=(224,224))\n",
        "\n",
        "# Converting the loaded image into an array\n",
        "x=image.img_to_array(img)\n",
        "\n",
        "# Expanding the image row-wise\n",
        "x=np.expand_dims(x,axis=0)\n",
        "\n",
        "# Pre processing the input image\n",
        "img_data=preprocess_input(x)"
      ],
      "execution_count": 79,
      "outputs": []
    },
    {
      "cell_type": "code",
      "metadata": {
        "colab": {
          "base_uri": "https://localhost:8080/"
        },
        "id": "jib-zkeyl4df",
        "outputId": "0179b6b1-a11d-4031-8341-2b9f37c7581e"
      },
      "source": [
        "# Predicting whether the X-Ray image is a COVID infected image or healthy image or Viral Pnuemonia image\n",
        "\n",
        "a=np.argmax(model.predict(img_data), axis=1)\n",
        "\n",
        "if(a==0):\n",
        "  print(\"Covid\")\n",
        "elif(a==1):\n",
        "  print(\"Normal\")\n",
        "else:\n",
        "  print(\"Viral Pneumonia\")"
      ],
      "execution_count": 80,
      "outputs": [
        {
          "output_type": "stream",
          "text": [
            "Covid\n"
          ],
          "name": "stdout"
        }
      ]
    },
    {
      "cell_type": "code",
      "metadata": {
        "id": "qJvbQynJo87n"
      },
      "source": [
        "# Saving the model file\n",
        "\n",
        "model.save('/content/gdrive/MyDrive/COVID19_VGG19.h5')"
      ],
      "execution_count": 82,
      "outputs": []
    }
  ]
}